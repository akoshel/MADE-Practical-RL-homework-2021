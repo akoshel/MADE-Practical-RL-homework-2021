{
 "cells": [
  {
   "cell_type": "code",
   "execution_count": 29,
   "id": "ad5b4a25",
   "metadata": {
    "ExecuteTime": {
     "end_time": "2021-10-23T19:18:25.114640Z",
     "start_time": "2021-10-23T19:18:25.112078Z"
    }
   },
   "outputs": [],
   "source": [
    "from gym import make\n",
    "from network import Model\n",
    "import torch\n",
    "import torch.nn as nn"
   ]
  },
  {
   "cell_type": "code",
   "execution_count": 2,
   "id": "789258db",
   "metadata": {
    "ExecuteTime": {
     "end_time": "2021-10-23T18:59:13.720422Z",
     "start_time": "2021-10-23T18:59:13.642318Z"
    }
   },
   "outputs": [],
   "source": [
    "env = make(\"LunarLander-v2\")"
   ]
  },
  {
   "cell_type": "code",
   "execution_count": 3,
   "id": "e54d22d8",
   "metadata": {
    "ExecuteTime": {
     "end_time": "2021-10-23T18:59:13.907855Z",
     "start_time": "2021-10-23T18:59:13.894381Z"
    }
   },
   "outputs": [],
   "source": [
    "state = env.reset()"
   ]
  },
  {
   "cell_type": "code",
   "execution_count": 4,
   "id": "26164fca",
   "metadata": {
    "ExecuteTime": {
     "end_time": "2021-10-23T18:59:14.160046Z",
     "start_time": "2021-10-23T18:59:14.151426Z"
    }
   },
   "outputs": [
    {
     "data": {
      "text/plain": [
       "array([-3.5333633e-04,  1.4222295e+00, -3.5799675e-02,  5.0263906e-01,\n",
       "        4.1617962e-04,  8.1091421e-03,  0.0000000e+00,  0.0000000e+00],\n",
       "      dtype=float32)"
      ]
     },
     "execution_count": 4,
     "metadata": {},
     "output_type": "execute_result"
    }
   ],
   "source": [
    "state"
   ]
  },
  {
   "cell_type": "code",
   "execution_count": 5,
   "id": "89f79463",
   "metadata": {
    "ExecuteTime": {
     "end_time": "2021-10-21T18:44:23.926039Z",
     "start_time": "2021-10-21T18:44:23.922419Z"
    }
   },
   "outputs": [
    {
     "data": {
      "text/plain": [
       "Discrete(4)"
      ]
     },
     "execution_count": 5,
     "metadata": {},
     "output_type": "execute_result"
    }
   ],
   "source": [
    "env.action_space"
   ]
  },
  {
   "cell_type": "code",
   "execution_count": 12,
   "id": "b650d8ef",
   "metadata": {
    "ExecuteTime": {
     "end_time": "2021-10-23T19:02:05.403261Z",
     "start_time": "2021-10-23T19:02:05.386306Z"
    }
   },
   "outputs": [],
   "source": [
    "state_tensor = torch.FloatTensor(state)"
   ]
  },
  {
   "cell_type": "code",
   "execution_count": 26,
   "id": "55a0d98f",
   "metadata": {
    "ExecuteTime": {
     "end_time": "2021-10-23T19:06:21.134467Z",
     "start_time": "2021-10-23T19:06:21.130347Z"
    }
   },
   "outputs": [],
   "source": [
    "model = nn.Sequential(\n",
    "    nn.Linear(8, 16),\n",
    "    nn.Sigmoid(),\n",
    "    nn.Linear(16, 16),\n",
    "    nn.Sigmoid(),\n",
    "    nn.Linear(16, 4),\n",
    "        )"
   ]
  },
  {
   "cell_type": "code",
   "execution_count": 27,
   "id": "7d8bbff2",
   "metadata": {
    "ExecuteTime": {
     "end_time": "2021-10-23T19:06:21.546526Z",
     "start_time": "2021-10-23T19:06:21.520749Z"
    }
   },
   "outputs": [
    {
     "data": {
      "text/plain": [
       "tensor([0.8142, 0.5177, 0.1555, 0.1561], grad_fn=<AddBackward0>)"
      ]
     },
     "execution_count": 27,
     "metadata": {},
     "output_type": "execute_result"
    }
   ],
   "source": [
    "model(state_tensor)"
   ]
  },
  {
   "cell_type": "code",
   "execution_count": 30,
   "id": "9be406db",
   "metadata": {
    "ExecuteTime": {
     "end_time": "2021-10-23T19:18:35.443562Z",
     "start_time": "2021-10-23T19:18:35.440260Z"
    }
   },
   "outputs": [],
   "source": [
    "model = Model()"
   ]
  },
  {
   "cell_type": "code",
   "execution_count": 31,
   "id": "7a251d99",
   "metadata": {
    "ExecuteTime": {
     "end_time": "2021-10-23T19:18:41.135647Z",
     "start_time": "2021-10-23T19:18:41.130904Z"
    }
   },
   "outputs": [
    {
     "data": {
      "text/plain": [
       "tensor([-0.1865,  0.3213,  0.3480,  0.4848], grad_fn=<AddBackward0>)"
      ]
     },
     "execution_count": 31,
     "metadata": {},
     "output_type": "execute_result"
    }
   ],
   "source": [
    "model(state_tensor)"
   ]
  },
  {
   "cell_type": "code",
   "execution_count": null,
   "id": "33f61256",
   "metadata": {},
   "outputs": [],
   "source": []
  }
 ],
 "metadata": {
  "kernelspec": {
   "display_name": "Python 3",
   "language": "python",
   "name": "python3"
  },
  "language_info": {
   "codemirror_mode": {
    "name": "ipython",
    "version": 3
   },
   "file_extension": ".py",
   "mimetype": "text/x-python",
   "name": "python",
   "nbconvert_exporter": "python",
   "pygments_lexer": "ipython3",
   "version": "3.7.10"
  },
  "toc": {
   "base_numbering": 1,
   "nav_menu": {},
   "number_sections": true,
   "sideBar": true,
   "skip_h1_title": false,
   "title_cell": "Table of Contents",
   "title_sidebar": "Contents",
   "toc_cell": false,
   "toc_position": {},
   "toc_section_display": true,
   "toc_window_display": false
  },
  "varInspector": {
   "cols": {
    "lenName": 16,
    "lenType": 16,
    "lenVar": 40
   },
   "kernels_config": {
    "python": {
     "delete_cmd_postfix": "",
     "delete_cmd_prefix": "del ",
     "library": "var_list.py",
     "varRefreshCmd": "print(var_dic_list())"
    },
    "r": {
     "delete_cmd_postfix": ") ",
     "delete_cmd_prefix": "rm(",
     "library": "var_list.r",
     "varRefreshCmd": "cat(var_dic_list()) "
    }
   },
   "types_to_exclude": [
    "module",
    "function",
    "builtin_function_or_method",
    "instance",
    "_Feature"
   ],
   "window_display": false
  }
 },
 "nbformat": 4,
 "nbformat_minor": 5
}
