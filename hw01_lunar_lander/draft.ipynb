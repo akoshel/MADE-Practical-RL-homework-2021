{
 "cells": [
  {
   "cell_type": "code",
   "execution_count": 3,
   "id": "ad5b4a25",
   "metadata": {
    "ExecuteTime": {
     "end_time": "2021-10-24T10:22:31.007747Z",
     "start_time": "2021-10-24T10:22:30.403684Z"
    }
   },
   "outputs": [],
   "source": [
    "from gym import make\n",
    "from network import Model\n",
    "import torch\n",
    "import torch.nn as nn"
   ]
  },
  {
   "cell_type": "code",
   "execution_count": 4,
   "id": "789258db",
   "metadata": {
    "ExecuteTime": {
     "end_time": "2021-10-24T10:22:31.137365Z",
     "start_time": "2021-10-24T10:22:31.117079Z"
    }
   },
   "outputs": [],
   "source": [
    "env = make(\"LunarLander-v2\")"
   ]
  },
  {
   "cell_type": "code",
   "execution_count": 5,
   "id": "e54d22d8",
   "metadata": {
    "ExecuteTime": {
     "end_time": "2021-10-24T10:22:31.261788Z",
     "start_time": "2021-10-24T10:22:31.256222Z"
    }
   },
   "outputs": [],
   "source": [
    "state = env.reset()"
   ]
  },
  {
   "cell_type": "code",
   "execution_count": 6,
   "id": "26164fca",
   "metadata": {
    "ExecuteTime": {
     "end_time": "2021-10-24T10:22:31.386449Z",
     "start_time": "2021-10-24T10:22:31.382643Z"
    }
   },
   "outputs": [],
   "source": [
    "transition = env.step(1)"
   ]
  },
  {
   "cell_type": "code",
   "execution_count": 7,
   "id": "89f79463",
   "metadata": {
    "ExecuteTime": {
     "end_time": "2021-10-24T10:22:31.730701Z",
     "start_time": "2021-10-24T10:22:31.711884Z"
    }
   },
   "outputs": [
    {
     "data": {
      "text/plain": [
       "Discrete(4)"
      ]
     },
     "execution_count": 7,
     "metadata": {},
     "output_type": "execute_result"
    }
   ],
   "source": [
    "env.action_space"
   ]
  },
  {
   "cell_type": "code",
   "execution_count": 8,
   "id": "b650d8ef",
   "metadata": {
    "ExecuteTime": {
     "end_time": "2021-10-24T10:22:32.001841Z",
     "start_time": "2021-10-24T10:22:31.996166Z"
    }
   },
   "outputs": [],
   "source": [
    "state_tensor = torch.FloatTensor(state)"
   ]
  },
  {
   "cell_type": "code",
   "execution_count": 9,
   "id": "55a0d98f",
   "metadata": {
    "ExecuteTime": {
     "end_time": "2021-10-24T10:22:32.283014Z",
     "start_time": "2021-10-24T10:22:32.272976Z"
    }
   },
   "outputs": [],
   "source": [
    "model = nn.Sequential(\n",
    "    nn.Linear(8, 16),\n",
    "    nn.Sigmoid(),\n",
    "    nn.Linear(16, 16),\n",
    "    nn.Sigmoid(),\n",
    "    nn.Linear(16, 4),\n",
    "        )"
   ]
  },
  {
   "cell_type": "code",
   "execution_count": 10,
   "id": "7d8bbff2",
   "metadata": {
    "ExecuteTime": {
     "end_time": "2021-10-24T10:22:32.454880Z",
     "start_time": "2021-10-24T10:22:32.446669Z"
    }
   },
   "outputs": [
    {
     "data": {
      "text/plain": [
       "tensor([-0.1654, -0.1887, -0.0592,  0.3539], grad_fn=<AddBackward0>)"
      ]
     },
     "execution_count": 10,
     "metadata": {},
     "output_type": "execute_result"
    }
   ],
   "source": [
    "model(state_tensor)"
   ]
  },
  {
   "cell_type": "code",
   "execution_count": 11,
   "id": "9be406db",
   "metadata": {
    "ExecuteTime": {
     "end_time": "2021-10-24T10:22:32.770147Z",
     "start_time": "2021-10-24T10:22:32.763260Z"
    }
   },
   "outputs": [],
   "source": [
    "model = Model(8, 4)"
   ]
  },
  {
   "cell_type": "code",
   "execution_count": 12,
   "id": "7a251d99",
   "metadata": {
    "ExecuteTime": {
     "end_time": "2021-10-24T10:22:33.190171Z",
     "start_time": "2021-10-24T10:22:33.181158Z"
    }
   },
   "outputs": [
    {
     "data": {
      "text/plain": [
       "tensor([ 0.0389, -0.2024, -0.5541, -0.1134], grad_fn=<AddBackward0>)"
      ]
     },
     "execution_count": 12,
     "metadata": {},
     "output_type": "execute_result"
    }
   ],
   "source": [
    "model(state_tensor)"
   ]
  },
  {
   "cell_type": "code",
   "execution_count": 13,
   "id": "33f61256",
   "metadata": {
    "ExecuteTime": {
     "end_time": "2021-10-24T10:22:33.631822Z",
     "start_time": "2021-10-24T10:22:33.600712Z"
    }
   },
   "outputs": [],
   "source": [
    "from train import DQN"
   ]
  },
  {
   "cell_type": "code",
   "execution_count": 14,
   "id": "4ab92a5e",
   "metadata": {
    "ExecuteTime": {
     "end_time": "2021-10-24T10:22:33.916463Z",
     "start_time": "2021-10-24T10:22:33.907449Z"
    }
   },
   "outputs": [],
   "source": [
    "dqn = DQN(8, 4)"
   ]
  },
  {
   "cell_type": "code",
   "execution_count": 15,
   "id": "74644732",
   "metadata": {
    "ExecuteTime": {
     "end_time": "2021-10-24T10:22:34.229162Z",
     "start_time": "2021-10-24T10:22:34.219892Z"
    }
   },
   "outputs": [
    {
     "data": {
      "text/plain": [
       "deque([])"
      ]
     },
     "execution_count": 15,
     "metadata": {},
     "output_type": "execute_result"
    }
   ],
   "source": [
    "dqn.memory"
   ]
  },
  {
   "cell_type": "code",
   "execution_count": 16,
   "id": "18be0493",
   "metadata": {
    "ExecuteTime": {
     "end_time": "2021-10-24T10:22:34.502494Z",
     "start_time": "2021-10-24T10:22:34.497852Z"
    }
   },
   "outputs": [],
   "source": [
    "for _ in range(20):\n",
    "    dqn.consume_transition(transition)"
   ]
  },
  {
   "cell_type": "code",
   "execution_count": 17,
   "id": "4ea4f32c",
   "metadata": {
    "ExecuteTime": {
     "end_time": "2021-10-24T10:22:35.761898Z",
     "start_time": "2021-10-24T10:22:35.757282Z"
    }
   },
   "outputs": [],
   "source": [
    "batch = dqn.sample_batch()"
   ]
  },
  {
   "cell_type": "code",
   "execution_count": 23,
   "id": "12e96427",
   "metadata": {
    "ExecuteTime": {
     "end_time": "2021-10-24T10:23:56.317945Z",
     "start_time": "2021-10-24T10:23:56.313295Z"
    }
   },
   "outputs": [],
   "source": [
    "states = batch"
   ]
  },
  {
   "cell_type": "code",
   "execution_count": 21,
   "id": "6fe4ea18",
   "metadata": {
    "ExecuteTime": {
     "end_time": "2021-10-24T10:23:47.353459Z",
     "start_time": "2021-10-24T10:23:47.349059Z"
    }
   },
   "outputs": [],
   "source": [
    "from train import Transition"
   ]
  },
  {
   "cell_type": "code",
   "execution_count": 24,
   "id": "042f1f08",
   "metadata": {
    "ExecuteTime": {
     "end_time": "2021-10-24T10:23:59.342660Z",
     "start_time": "2021-10-24T10:23:59.338177Z"
    }
   },
   "outputs": [],
   "source": [
    "batch = Transition(*zip(*states))"
   ]
  },
  {
   "cell_type": "code",
   "execution_count": 35,
   "id": "2767ff92",
   "metadata": {
    "ExecuteTime": {
     "end_time": "2021-10-24T10:26:36.065203Z",
     "start_time": "2021-10-24T10:26:36.056922Z"
    }
   },
   "outputs": [
    {
     "data": {
      "text/plain": [
       "tensor([-0.3374, -0.3374, -0.3374, -0.3374, -0.3374, -0.3374, -0.3374, -0.3374,\n",
       "        -0.3374, -0.3374])"
      ]
     },
     "execution_count": 35,
     "metadata": {},
     "output_type": "execute_result"
    }
   ],
   "source": [
    "torch.Tensor(batch.action)"
   ]
  },
  {
   "cell_type": "code",
   "execution_count": 46,
   "id": "13257057",
   "metadata": {
    "ExecuteTime": {
     "end_time": "2021-10-24T11:00:34.796884Z",
     "start_time": "2021-10-24T11:00:34.791044Z"
    }
   },
   "outputs": [],
   "source": [
    "a = dqn.model(torch.FloatTensor(batch.state))[0].argmax()"
   ]
  },
  {
   "cell_type": "code",
   "execution_count": 51,
   "id": "5d311d0b",
   "metadata": {
    "ExecuteTime": {
     "end_time": "2021-10-24T11:00:55.572113Z",
     "start_time": "2021-10-24T11:00:55.542073Z"
    }
   },
   "outputs": [
    {
     "ename": "NotImplementedError",
     "evalue": "Could not run 'aten::values' with arguments from the 'CPU' backend. This could be because the operator doesn't exist for this backend, or was omitted during the selective/custom build process (if using custom build). If you are a Facebook employee using PyTorch on mobile, please visit https://fburl.com/ptmfixes for possible resolutions. 'aten::values' is only available for these backends: [SparseCPU, SparseCsrCPU, BackendSelect, Named, ADInplaceOrView, AutogradOther, AutogradCPU, AutogradCUDA, AutogradXLA, UNKNOWN_TENSOR_TYPE_ID, AutogradMLC, AutogradHPU, AutogradNestedTensor, AutogradPrivateUse1, AutogradPrivateUse2, AutogradPrivateUse3, Tracer, Autocast, Batched, VmapMode].\n\nSparseCPU: registered at /pytorch/build/aten/src/ATen/RegisterSparseCPU.cpp:959 [kernel]\nSparseCsrCPU: registered at /pytorch/build/aten/src/ATen/RegisterSparseCsrCPU.cpp:200 [kernel]\nBackendSelect: fallthrough registered at /pytorch/aten/src/ATen/core/BackendSelectFallbackKernel.cpp:3 [backend fallback]\nNamed: registered at /pytorch/aten/src/ATen/core/NamedRegistrations.cpp:7 [backend fallback]\nADInplaceOrView: registered at /pytorch/torch/csrc/autograd/generated/ADInplaceOrViewType_0.cpp:2322 [kernel]\nAutogradOther: registered at /pytorch/torch/csrc/autograd/generated/VariableType_1.cpp:10105 [autograd kernel]\nAutogradCPU: registered at /pytorch/torch/csrc/autograd/generated/VariableType_1.cpp:10105 [autograd kernel]\nAutogradCUDA: registered at /pytorch/torch/csrc/autograd/generated/VariableType_1.cpp:10105 [autograd kernel]\nAutogradXLA: registered at /pytorch/torch/csrc/autograd/generated/VariableType_1.cpp:10105 [autograd kernel]\nUNKNOWN_TENSOR_TYPE_ID: registered at /pytorch/torch/csrc/autograd/generated/VariableType_1.cpp:10105 [autograd kernel]\nAutogradMLC: registered at /pytorch/torch/csrc/autograd/generated/VariableType_1.cpp:10105 [autograd kernel]\nAutogradHPU: registered at /pytorch/torch/csrc/autograd/generated/VariableType_1.cpp:10105 [autograd kernel]\nAutogradNestedTensor: registered at /pytorch/torch/csrc/autograd/generated/VariableType_1.cpp:10105 [autograd kernel]\nAutogradPrivateUse1: registered at /pytorch/torch/csrc/autograd/generated/VariableType_1.cpp:10105 [autograd kernel]\nAutogradPrivateUse2: registered at /pytorch/torch/csrc/autograd/generated/VariableType_1.cpp:10105 [autograd kernel]\nAutogradPrivateUse3: registered at /pytorch/torch/csrc/autograd/generated/VariableType_1.cpp:10105 [autograd kernel]\nTracer: registered at /pytorch/torch/csrc/autograd/generated/TraceType_1.cpp:10518 [kernel]\nAutocast: fallthrough registered at /pytorch/aten/src/ATen/autocast_mode.cpp:255 [backend fallback]\nBatched: registered at /pytorch/aten/src/ATen/BatchingRegistrations.cpp:1019 [backend fallback]\nVmapMode: fallthrough registered at /pytorch/aten/src/ATen/VmapModeRegistrations.cpp:33 [backend fallback]\n",
     "output_type": "error",
     "traceback": [
      "\u001b[0;31m---------------------------------------------------------------------------\u001b[0m",
      "\u001b[0;31mNotImplementedError\u001b[0m                       Traceback (most recent call last)",
      "\u001b[0;32m<ipython-input-51-35b8d237add8>\u001b[0m in \u001b[0;36m<module>\u001b[0;34m\u001b[0m\n\u001b[0;32m----> 1\u001b[0;31m \u001b[0ma\u001b[0m\u001b[0;34m.\u001b[0m\u001b[0mvalues\u001b[0m\u001b[0;34m(\u001b[0m\u001b[0;34m)\u001b[0m\u001b[0;34m\u001b[0m\u001b[0;34m\u001b[0m\u001b[0m\n\u001b[0m",
      "\u001b[0;31mNotImplementedError\u001b[0m: Could not run 'aten::values' with arguments from the 'CPU' backend. This could be because the operator doesn't exist for this backend, or was omitted during the selective/custom build process (if using custom build). If you are a Facebook employee using PyTorch on mobile, please visit https://fburl.com/ptmfixes for possible resolutions. 'aten::values' is only available for these backends: [SparseCPU, SparseCsrCPU, BackendSelect, Named, ADInplaceOrView, AutogradOther, AutogradCPU, AutogradCUDA, AutogradXLA, UNKNOWN_TENSOR_TYPE_ID, AutogradMLC, AutogradHPU, AutogradNestedTensor, AutogradPrivateUse1, AutogradPrivateUse2, AutogradPrivateUse3, Tracer, Autocast, Batched, VmapMode].\n\nSparseCPU: registered at /pytorch/build/aten/src/ATen/RegisterSparseCPU.cpp:959 [kernel]\nSparseCsrCPU: registered at /pytorch/build/aten/src/ATen/RegisterSparseCsrCPU.cpp:200 [kernel]\nBackendSelect: fallthrough registered at /pytorch/aten/src/ATen/core/BackendSelectFallbackKernel.cpp:3 [backend fallback]\nNamed: registered at /pytorch/aten/src/ATen/core/NamedRegistrations.cpp:7 [backend fallback]\nADInplaceOrView: registered at /pytorch/torch/csrc/autograd/generated/ADInplaceOrViewType_0.cpp:2322 [kernel]\nAutogradOther: registered at /pytorch/torch/csrc/autograd/generated/VariableType_1.cpp:10105 [autograd kernel]\nAutogradCPU: registered at /pytorch/torch/csrc/autograd/generated/VariableType_1.cpp:10105 [autograd kernel]\nAutogradCUDA: registered at /pytorch/torch/csrc/autograd/generated/VariableType_1.cpp:10105 [autograd kernel]\nAutogradXLA: registered at /pytorch/torch/csrc/autograd/generated/VariableType_1.cpp:10105 [autograd kernel]\nUNKNOWN_TENSOR_TYPE_ID: registered at /pytorch/torch/csrc/autograd/generated/VariableType_1.cpp:10105 [autograd kernel]\nAutogradMLC: registered at /pytorch/torch/csrc/autograd/generated/VariableType_1.cpp:10105 [autograd kernel]\nAutogradHPU: registered at /pytorch/torch/csrc/autograd/generated/VariableType_1.cpp:10105 [autograd kernel]\nAutogradNestedTensor: registered at /pytorch/torch/csrc/autograd/generated/VariableType_1.cpp:10105 [autograd kernel]\nAutogradPrivateUse1: registered at /pytorch/torch/csrc/autograd/generated/VariableType_1.cpp:10105 [autograd kernel]\nAutogradPrivateUse2: registered at /pytorch/torch/csrc/autograd/generated/VariableType_1.cpp:10105 [autograd kernel]\nAutogradPrivateUse3: registered at /pytorch/torch/csrc/autograd/generated/VariableType_1.cpp:10105 [autograd kernel]\nTracer: registered at /pytorch/torch/csrc/autograd/generated/TraceType_1.cpp:10518 [kernel]\nAutocast: fallthrough registered at /pytorch/aten/src/ATen/autocast_mode.cpp:255 [backend fallback]\nBatched: registered at /pytorch/aten/src/ATen/BatchingRegistrations.cpp:1019 [backend fallback]\nVmapMode: fallthrough registered at /pytorch/aten/src/ATen/VmapModeRegistrations.cpp:33 [backend fallback]\n"
     ]
    }
   ],
   "source": []
  },
  {
   "cell_type": "code",
   "execution_count": 29,
   "id": "7efc2c41",
   "metadata": {
    "ExecuteTime": {
     "end_time": "2021-10-24T09:43:52.805531Z",
     "start_time": "2021-10-24T09:43:52.782368Z"
    }
   },
   "outputs": [
    {
     "ename": "TypeError",
     "evalue": "new() received an invalid combination of arguments - got (numpy.ndarray, numpy.ndarray, numpy.ndarray, numpy.ndarray, numpy.ndarray, numpy.ndarray, numpy.ndarray, numpy.ndarray, numpy.ndarray, numpy.ndarray), but expected one of:\n * (*, torch.device device)\n * (torch.Storage storage)\n * (Tensor other)\n * (tuple of ints size, *, torch.device device)\n * (object data, *, torch.device device)\n",
     "output_type": "error",
     "traceback": [
      "\u001b[0;31m---------------------------------------------------------------------------\u001b[0m",
      "\u001b[0;31mTypeError\u001b[0m                                 Traceback (most recent call last)",
      "\u001b[0;32m<ipython-input-29-15deaf3bfe49>\u001b[0m in \u001b[0;36m<module>\u001b[0;34m\u001b[0m\n\u001b[0;32m----> 1\u001b[0;31m \u001b[0mtorch\u001b[0m\u001b[0;34m.\u001b[0m\u001b[0mTensor\u001b[0m\u001b[0;34m(\u001b[0m\u001b[0;34m*\u001b[0m\u001b[0mstates\u001b[0m\u001b[0;34m)\u001b[0m\u001b[0;34m\u001b[0m\u001b[0;34m\u001b[0m\u001b[0m\n\u001b[0m",
      "\u001b[0;31mTypeError\u001b[0m: new() received an invalid combination of arguments - got (numpy.ndarray, numpy.ndarray, numpy.ndarray, numpy.ndarray, numpy.ndarray, numpy.ndarray, numpy.ndarray, numpy.ndarray, numpy.ndarray, numpy.ndarray), but expected one of:\n * (*, torch.device device)\n * (torch.Storage storage)\n * (Tensor other)\n * (tuple of ints size, *, torch.device device)\n * (object data, *, torch.device device)\n"
     ]
    }
   ],
   "source": [
    "torch.Tensor()"
   ]
  },
  {
   "cell_type": "code",
   "execution_count": 106,
   "id": "41fe584e",
   "metadata": {
    "ExecuteTime": {
     "end_time": "2021-10-24T08:48:58.832000Z",
     "start_time": "2021-10-24T08:48:58.784568Z"
    }
   },
   "outputs": [
    {
     "name": "stderr",
     "output_type": "stream",
     "text": [
      "/mnt/c/Homeworks/MADE-Practical-RL-homework-2021/hw01_lunar_lander/train.py:42: VisibleDeprecationWarning: Creating an ndarray from ragged nested sequences (which is a list-or-tuple of lists-or-tuples-or ndarrays with different lengths or shapes) is deprecated. If you meant to do this, you must specify 'dtype=object' when creating the ndarray.\n",
      "  return np.array(batch)\n"
     ]
    },
    {
     "ename": "TypeError",
     "evalue": "can't convert np.ndarray of type numpy.object_. The only supported types are: float64, float32, float16, complex64, complex128, int64, int32, int16, int8, uint8, and bool.",
     "output_type": "error",
     "traceback": [
      "\u001b[0;31m---------------------------------------------------------------------------\u001b[0m",
      "\u001b[0;31mTypeError\u001b[0m                                 Traceback (most recent call last)",
      "\u001b[0;32m<ipython-input-106-7c8b26131332>\u001b[0m in \u001b[0;36m<module>\u001b[0;34m\u001b[0m\n\u001b[0;32m----> 1\u001b[0;31m \u001b[0mdqn\u001b[0m\u001b[0;34m.\u001b[0m\u001b[0mmodel\u001b[0m\u001b[0;34m(\u001b[0m\u001b[0mtorch\u001b[0m\u001b[0;34m.\u001b[0m\u001b[0mFloatTensor\u001b[0m\u001b[0;34m(\u001b[0m\u001b[0mdqn\u001b[0m\u001b[0;34m.\u001b[0m\u001b[0msample_batch\u001b[0m\u001b[0;34m(\u001b[0m\u001b[0;34m)\u001b[0m\u001b[0;34m)\u001b[0m\u001b[0;34m)\u001b[0m\u001b[0;34m\u001b[0m\u001b[0;34m\u001b[0m\u001b[0m\n\u001b[0m",
      "\u001b[0;31mTypeError\u001b[0m: can't convert np.ndarray of type numpy.object_. The only supported types are: float64, float32, float16, complex64, complex128, int64, int32, int16, int8, uint8, and bool."
     ]
    }
   ],
   "source": [
    "dqn.model(torch.FloatTensor(dqn.sample_batch()))"
   ]
  },
  {
   "cell_type": "code",
   "execution_count": 110,
   "id": "2bcbf5e5",
   "metadata": {
    "ExecuteTime": {
     "end_time": "2021-10-24T08:49:44.480137Z",
     "start_time": "2021-10-24T08:49:44.475341Z"
    }
   },
   "outputs": [],
   "source": [
    "a = deque()"
   ]
  },
  {
   "cell_type": "code",
   "execution_count": 113,
   "id": "8a0db80d",
   "metadata": {
    "ExecuteTime": {
     "end_time": "2021-10-24T08:49:54.904446Z",
     "start_time": "2021-10-24T08:49:54.899630Z"
    }
   },
   "outputs": [],
   "source": [
    "a.append(transition[:2])"
   ]
  },
  {
   "cell_type": "code",
   "execution_count": 117,
   "id": "fce6f290",
   "metadata": {
    "ExecuteTime": {
     "end_time": "2021-10-24T08:50:36.662287Z",
     "start_time": "2021-10-24T08:50:36.651077Z"
    }
   },
   "outputs": [
    {
     "data": {
      "text/plain": [
       "[(array([-0.06280918,  1.3024409 , -0.72931874, -0.6433341 ,  0.12079125,\n",
       "          0.339049  ,  0.        ,  0.        ], dtype=float32),\n",
       "  -2.660535036773068),\n",
       " (array([-0.06280918,  1.3024409 , -0.72931874, -0.6433341 ,  0.12079125,\n",
       "          0.339049  ,  0.        ,  0.        ], dtype=float32),\n",
       "  -2.660535036773068),\n",
       " (array([-0.06280918,  1.3024409 , -0.72931874, -0.6433341 ,  0.12079125,\n",
       "          0.339049  ,  0.        ,  0.        ], dtype=float32),\n",
       "  -2.660535036773068)]"
      ]
     },
     "execution_count": 117,
     "metadata": {},
     "output_type": "execute_result"
    }
   ],
   "source": [
    "sample(a, 3)"
   ]
  },
  {
   "cell_type": "code",
   "execution_count": null,
   "id": "34446c7a",
   "metadata": {},
   "outputs": [],
   "source": []
  }
 ],
 "metadata": {
  "kernelspec": {
   "display_name": "Python 3",
   "language": "python",
   "name": "python3"
  },
  "language_info": {
   "codemirror_mode": {
    "name": "ipython",
    "version": 3
   },
   "file_extension": ".py",
   "mimetype": "text/x-python",
   "name": "python",
   "nbconvert_exporter": "python",
   "pygments_lexer": "ipython3",
   "version": "3.7.10"
  },
  "toc": {
   "base_numbering": 1,
   "nav_menu": {},
   "number_sections": true,
   "sideBar": true,
   "skip_h1_title": false,
   "title_cell": "Table of Contents",
   "title_sidebar": "Contents",
   "toc_cell": false,
   "toc_position": {},
   "toc_section_display": true,
   "toc_window_display": false
  },
  "varInspector": {
   "cols": {
    "lenName": 16,
    "lenType": 16,
    "lenVar": 40
   },
   "kernels_config": {
    "python": {
     "delete_cmd_postfix": "",
     "delete_cmd_prefix": "del ",
     "library": "var_list.py",
     "varRefreshCmd": "print(var_dic_list())"
    },
    "r": {
     "delete_cmd_postfix": ") ",
     "delete_cmd_prefix": "rm(",
     "library": "var_list.r",
     "varRefreshCmd": "cat(var_dic_list()) "
    }
   },
   "types_to_exclude": [
    "module",
    "function",
    "builtin_function_or_method",
    "instance",
    "_Feature"
   ],
   "window_display": false
  }
 },
 "nbformat": 4,
 "nbformat_minor": 5
}
